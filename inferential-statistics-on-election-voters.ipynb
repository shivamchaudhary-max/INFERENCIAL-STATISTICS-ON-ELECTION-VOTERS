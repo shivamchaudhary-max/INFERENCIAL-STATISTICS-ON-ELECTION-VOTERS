{
 "cells": [
  {
   "cell_type": "code",
   "execution_count": 1,
   "id": "a4cb1654",
   "metadata": {
    "execution": {
     "iopub.execute_input": "2022-01-16T08:56:27.379265Z",
     "iopub.status.busy": "2022-01-16T08:56:27.378093Z",
     "iopub.status.idle": "2022-01-16T08:56:28.412322Z",
     "shell.execute_reply": "2022-01-16T08:56:28.411613Z"
    },
    "id": "g0HOMDz6_Eil",
    "papermill": {
     "duration": 1.045701,
     "end_time": "2022-01-16T08:56:28.412518",
     "exception": false,
     "start_time": "2022-01-16T08:56:27.366817",
     "status": "completed"
    },
    "tags": []
   },
   "outputs": [],
   "source": [
    "import matplotlib.pyplot as plt\n",
    "import seaborn as sns\n",
    "import numpy as np\n",
    "import pandas as pd\n",
    "from scipy import stats\n"
   ]
  },
  {
   "cell_type": "markdown",
   "id": "6d55e253",
   "metadata": {
    "id": "dVpeRuVj_5c8",
    "papermill": {
     "duration": 0.006007,
     "end_time": "2022-01-16T08:56:28.425780",
     "exception": false,
     "start_time": "2022-01-16T08:56:28.419773",
     "status": "completed"
    },
    "tags": []
   },
   "source": [
    "1. In a study, the researchers wish to see the percentage of registered voters in a\n",
    "population who were in favor of candidate A in an election was more than 40%. A random sample of registered voters in this population was taken. Among 800 people participated in the survey, 380 of them voted for candidate A.\n",
    "\n",
    "a) Report the 95% confidence interval for estimating the percentage of people in the population who would vote for candidate A. Please use point estimate ± margin of error format to report the confidence interval.\n",
    "b) If the researchers would like to estimate a sample size for the study, and there is no prior knowledge of the proportion, how large a sample would be needed for constructing a confidence interval for estimating the percentage ofpeople will be in favor of candidate A with a 95 confidence level and a 2% margin of error?"
   ]
  },
  {
   "cell_type": "code",
   "execution_count": 2,
   "id": "58d2fdb2",
   "metadata": {
    "execution": {
     "iopub.execute_input": "2022-01-16T08:56:28.442856Z",
     "iopub.status.busy": "2022-01-16T08:56:28.440833Z",
     "iopub.status.idle": "2022-01-16T08:56:28.445230Z",
     "shell.execute_reply": "2022-01-16T08:56:28.445786Z"
    },
    "id": "JSmq_WiU_7K1",
    "papermill": {
     "duration": 0.013927,
     "end_time": "2022-01-16T08:56:28.445963",
     "exception": false,
     "start_time": "2022-01-16T08:56:28.432036",
     "status": "completed"
    },
    "tags": []
   },
   "outputs": [],
   "source": [
    "# Significance Level,  α  is at 0.4. Assuming Null Hypothesis to be true.\n",
    "h0=380\n",
    "h1=800"
   ]
  },
  {
   "cell_type": "code",
   "execution_count": 3,
   "id": "6c60d80c",
   "metadata": {
    "execution": {
     "iopub.execute_input": "2022-01-16T08:56:28.462471Z",
     "iopub.status.busy": "2022-01-16T08:56:28.461803Z",
     "iopub.status.idle": "2022-01-16T08:56:28.470815Z",
     "shell.execute_reply": "2022-01-16T08:56:28.471410Z"
    },
    "id": "kF0K2iLAAATI",
    "outputId": "939699a7-7223-4e1b-fd6c-367f74132be4",
    "papermill": {
     "duration": 0.019012,
     "end_time": "2022-01-16T08:56:28.471586",
     "exception": false,
     "start_time": "2022-01-16T08:56:28.452574",
     "status": "completed"
    },
    "tags": []
   },
   "outputs": [
    {
     "name": "stdout",
     "output_type": "stream",
     "text": [
      "464.2105263157895\n",
      "Critical value\n",
      "9.487729036781154\n",
      "P value\n",
      "0.0\n"
     ]
    }
   ],
   "source": [
    "chi_squared_stat = (((h1-h0)**2)/h0)\n",
    "\n",
    "print(chi_squared_stat)\n",
    "\n",
    "crit = stats.chi2.ppf(q = 0.95, # Find the critical value for 95% confidence*\n",
    "                      df = 4)   # Df = number of variable categories - 1\n",
    "print(\"Critical value\")\n",
    "print(crit)\n",
    "\n",
    "p_value = 1 - stats.chi2.cdf(x=chi_squared_stat,df=4)\n",
    "print(\"P value\")\n",
    "print(p_value)"
   ]
  },
  {
   "cell_type": "markdown",
   "id": "8ef6eb6b",
   "metadata": {
    "id": "RRoCuWwOA3tx",
    "papermill": {
     "duration": 0.006742,
     "end_time": "2022-01-16T08:56:28.485807",
     "exception": false,
     "start_time": "2022-01-16T08:56:28.479065",
     "status": "completed"
    },
    "tags": []
   },
   "source": [
    "q2-a) Perform a statistical hypothesis test using 5% as the level of significance to see if the average arm span for the 11th graders in Ohio is more than 160 cm. You must state null and alternative hypothesis, check normality assumption, report test statistic value, report p-value, and draw a proper conclusion. (mean=200)\n",
    "Null hypothesis: The average arm span for the students is 160cm\n",
    "Alternative hypothesis: The average arm span for students is more than 160 cm\n",
    "Report p-value from the normality test, make a quantile-comparison plot, and draw a conclusion."
   ]
  },
  {
   "cell_type": "code",
   "execution_count": 4,
   "id": "534e8a62",
   "metadata": {
    "execution": {
     "iopub.execute_input": "2022-01-16T08:56:28.503371Z",
     "iopub.status.busy": "2022-01-16T08:56:28.502674Z",
     "iopub.status.idle": "2022-01-16T08:56:28.505809Z",
     "shell.execute_reply": "2022-01-16T08:56:28.506363Z"
    },
    "id": "IKxY84ubA9Eh",
    "papermill": {
     "duration": 0.013799,
     "end_time": "2022-01-16T08:56:28.506536",
     "exception": false,
     "start_time": "2022-01-16T08:56:28.492737",
     "status": "completed"
    },
    "tags": []
   },
   "outputs": [],
   "source": [
    "# Significance Level,  α  is at 0.05. Assuming Null Hypothesis to be true.\n",
    "\n",
    "h0_mean = 160\n",
    "h1_mean = 200"
   ]
  },
  {
   "cell_type": "code",
   "execution_count": 5,
   "id": "3e0b4b4c",
   "metadata": {
    "execution": {
     "iopub.execute_input": "2022-01-16T08:56:28.524492Z",
     "iopub.status.busy": "2022-01-16T08:56:28.523813Z",
     "iopub.status.idle": "2022-01-16T08:56:28.531372Z",
     "shell.execute_reply": "2022-01-16T08:56:28.531834Z"
    },
    "id": "HUg2Mz33BB5-",
    "outputId": "7f2b0714-35f6-4697-ec12-ea1cb29c49a4",
    "papermill": {
     "duration": 0.018307,
     "end_time": "2022-01-16T08:56:28.532038",
     "exception": false,
     "start_time": "2022-01-16T08:56:28.513731",
     "status": "completed"
    },
    "tags": []
   },
   "outputs": [
    {
     "name": "stdout",
     "output_type": "stream",
     "text": [
      "10.0\n",
      "Critical value\n",
      "9.487729036781154\n",
      "P value\n",
      "0.04042768199451274\n"
     ]
    }
   ],
   "source": [
    "chi_squared_stat = (((h1_mean-h0_mean)**2)/h0_mean)\n",
    "\n",
    "print(chi_squared_stat)\n",
    "\n",
    "crit = stats.chi2.ppf(q = 0.95, # Find the critical value for 95% confidence*\n",
    "                      df = 4)   # Df = number of variable categories - 1\n",
    "print(\"Critical value\")\n",
    "print(crit)\n",
    "\n",
    "p_value = 1 - stats.chi2.cdf(x=chi_squared_stat,df=4)\n",
    "print(\"P value\")\n",
    "print(p_value)"
   ]
  },
  {
   "cell_type": "markdown",
   "id": "f3a2bfb0",
   "metadata": {
    "id": "sN1sh0P5BPkm",
    "papermill": {
     "duration": 0.007468,
     "end_time": "2022-01-16T08:56:28.547357",
     "exception": false,
     "start_time": "2022-01-16T08:56:28.539889",
     "status": "completed"
    },
    "tags": []
   },
   "source": [
    "The p value obtained is much lesser than the significance level α . We therefore reject the null hypothesis and accept the alternate hypothesis (the negation)."
   ]
  }
 ],
 "metadata": {
  "kernelspec": {
   "display_name": "Python 3",
   "language": "python",
   "name": "python3"
  },
  "language_info": {
   "codemirror_mode": {
    "name": "ipython",
    "version": 3
   },
   "file_extension": ".py",
   "mimetype": "text/x-python",
   "name": "python",
   "nbconvert_exporter": "python",
   "pygments_lexer": "ipython3",
   "version": "3.7.12"
  },
  "papermill": {
   "default_parameters": {},
   "duration": 11.827343,
   "end_time": "2022-01-16T08:56:29.266238",
   "environment_variables": {},
   "exception": null,
   "input_path": "__notebook__.ipynb",
   "output_path": "__notebook__.ipynb",
   "parameters": {},
   "start_time": "2022-01-16T08:56:17.438895",
   "version": "2.3.3"
  }
 },
 "nbformat": 4,
 "nbformat_minor": 5
}
